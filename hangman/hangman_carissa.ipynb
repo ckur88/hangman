{
 "cells": [
  {
   "cell_type": "markdown",
   "metadata": {},
   "source": [
    "# Template from Phil"
   ]
  },
  {
   "cell_type": "code",
   "execution_count": 1,
   "metadata": {},
   "outputs": [],
   "source": [
    "from IPython.core.interactiveshell import InteractiveShell\n",
    "InteractiveShell.ast_node_interactivity = \"all\""
   ]
  },
  {
   "cell_type": "code",
   "execution_count": 2,
   "metadata": {},
   "outputs": [],
   "source": [
    "# CONSTANTS\n",
    "MAX_GUESSES = 6\n",
    "\n",
    "# GLOBAL VARIABLES \n",
    "secret_word = '' # Change this \n",
    "letters_guessed = []\n",
    "\n",
    "# From part 3b:\n",
    "def word_guessed():\n",
    "    '''\n",
    "    Returns True if the player has successfully guessed the word,\n",
    "    and False otherwise.\n",
    "    '''\n",
    "    global secret_word\n",
    "    global letters_guessed\n",
    "\n",
    "    ####### YOUR CODE HERE ######\n",
    "    pass # This tells your code to skip this function; delete it when you\n",
    "         # start working on this function\n",
    "\n",
    "\n",
    "def print_guessed():\n",
    "    '''\n",
    "    Prints a string that contains the word with a dash \"-\" in\n",
    "    place of letters not guessed yet. \n",
    "    '''\n",
    "    global secret_word\n",
    "    global letters_guessed\n",
    "    \n",
    "    ####### YOUR CODE HERE ######\n",
    "    pass # This tells your code to skip this function; delete it when you\n",
    "         # start working on this function\n",
    "\n",
    "def play_hangman():\n",
    "    # Actually play the hangman game\n",
    "    global secret_word\n",
    "    global letters_guessed\n",
    "    # Put the mistakes_made variable here, since you'll only use it in this function\n",
    "    mistakes_made = 0\n",
    "\n",
    "    # Update secret_word. Don't uncomment this line until you get to Step 8.\n",
    "    # secret_word  = get_word()\n",
    "\n",
    "    ####### YOUR CODE HERE ######\n",
    "    return None\n",
    "\n",
    "    \n"
   ]
  },
  {
   "cell_type": "markdown",
   "metadata": {},
   "source": [
    "# Part 1 Helper Code"
   ]
  },
  {
   "cell_type": "code",
   "execution_count": 3,
   "metadata": {},
   "outputs": [],
   "source": [
    "# 1A) Determine whether the word has been guessed\n",
    "def is_word_guessed(secret_word, letters_guessed):\n",
    "    for i in secret_word:\n",
    "        if i not in letters_guessed:\n",
    "            return False\n",
    "    return True"
   ]
  },
  {
   "cell_type": "code",
   "execution_count": 4,
   "metadata": {},
   "outputs": [
    {
     "data": {
      "text/plain": [
       "True"
      ]
     },
     "execution_count": 4,
     "metadata": {},
     "output_type": "execute_result"
    }
   ],
   "source": [
    "secret_word = 'apple'\n",
    "letters_guessed = ['p', 'a', 'l', 'p', 'e']\n",
    "is_word_guessed(secret_word, letters_guessed)"
   ]
  },
  {
   "cell_type": "code",
   "execution_count": 5,
   "metadata": {},
   "outputs": [
    {
     "data": {
      "text/plain": [
       "False"
      ]
     },
     "execution_count": 5,
     "metadata": {},
     "output_type": "execute_result"
    }
   ],
   "source": [
    "secret_word = 'apple'\n",
    "letters_guessed = ['e', 'd', 'k', 'o', 'j']\n",
    "is_word_guessed(secret_word, letters_guessed)"
   ]
  },
  {
   "cell_type": "code",
   "execution_count": 6,
   "metadata": {},
   "outputs": [],
   "source": [
    "# 1B) Getting the user’s guess\n",
    "\n",
    "def get_guessed_word(secret_word, letters_guessed):\n",
    "    output = \"\"\n",
    "    for i in secret_word:\n",
    "        if i in letters_guessed:\n",
    "            output += i\n",
    "        else:\n",
    "            output += \"_ \"\n",
    "    return output"
   ]
  },
  {
   "cell_type": "code",
   "execution_count": 7,
   "metadata": {},
   "outputs": [
    {
     "data": {
      "text/plain": [
       "'_ _ _ _ e'"
      ]
     },
     "execution_count": 7,
     "metadata": {},
     "output_type": "execute_result"
    }
   ],
   "source": [
    "a = 'apple'\n",
    "b = ['e', 'd', 'k', 'o', 'j']\n",
    "get_guessed_word(a, b)"
   ]
  },
  {
   "cell_type": "code",
   "execution_count": 8,
   "metadata": {},
   "outputs": [],
   "source": [
    "# 1C) Getting all available letters that have not been guessed\n",
    "\n",
    "def get_available_letters(letters_guessed):\n",
    "    string = \"abcdefghijklmnopqrstuvwxyz\"\n",
    "    output = \"\"\n",
    "    for i in string:\n",
    "        if i not in letters_guessed:\n",
    "            output += i\n",
    "    return output\n",
    "    "
   ]
  },
  {
   "cell_type": "code",
   "execution_count": 9,
   "metadata": {},
   "outputs": [
    {
     "data": {
      "text/plain": [
       "'abcdfghjlmnoqtuvwxyz'"
      ]
     },
     "execution_count": 9,
     "metadata": {},
     "output_type": "execute_result"
    }
   ],
   "source": [
    "letters_guessed = ['e', 'i', 'k', 'p', 'r', 's']\n",
    "get_available_letters(letters_guessed)"
   ]
  },
  {
   "cell_type": "code",
   "execution_count": 10,
   "metadata": {},
   "outputs": [
    {
     "data": {
      "text/plain": [
       "('a',\n",
       " 'b',\n",
       " 'c',\n",
       " 'd',\n",
       " 'e',\n",
       " 'f',\n",
       " 'g',\n",
       " 'h',\n",
       " 'i',\n",
       " 'j',\n",
       " 'k',\n",
       " 'l',\n",
       " 'm',\n",
       " 'n',\n",
       " 'o',\n",
       " 'p',\n",
       " 'q',\n",
       " 'r',\n",
       " 's',\n",
       " 't',\n",
       " 'u',\n",
       " 'v',\n",
       " 'w',\n",
       " 'x',\n",
       " 'y',\n",
       " 'z')"
      ]
     },
     "execution_count": 10,
     "metadata": {},
     "output_type": "execute_result"
    }
   ],
   "source": [
    "import string\n",
    "letters = string.ascii_lowercase\n",
    "allowed_input = tuple(letters)\n",
    "allowed_input\n"
   ]
  },
  {
   "cell_type": "code",
   "execution_count": 11,
   "metadata": {},
   "outputs": [
    {
     "data": {
      "text/plain": [
       "'apple'"
      ]
     },
     "execution_count": 11,
     "metadata": {},
     "output_type": "execute_result"
    }
   ],
   "source": [
    "# Get the final score\n",
    "secret_word"
   ]
  },
  {
   "cell_type": "code",
   "execution_count": 12,
   "metadata": {},
   "outputs": [
    {
     "data": {
      "text/plain": [
       "4"
      ]
     },
     "execution_count": 12,
     "metadata": {},
     "output_type": "execute_result"
    }
   ],
   "source": [
    "len(set(secret_word))"
   ]
  },
  {
   "cell_type": "markdown",
   "metadata": {},
   "source": [
    "# Part 2 The play_hangman() Game"
   ]
  },
  {
   "cell_type": "code",
   "execution_count": 11,
   "metadata": {},
   "outputs": [
    {
     "name": "stdout",
     "output_type": "stream",
     "text": [
      "Loading word list from file...\n",
      "   55900 words loaded.\n",
      "Enter play_hangman() to play a game of hangman!\n"
     ]
    }
   ],
   "source": [
    "# Name: Carissa Mashinta Kurniawan\n",
    "# 6.S189 Project 1: Hangman template\n",
    "# hangman_template.py\n",
    "\n",
    "# Import statements: DO NOT delete these! DO NOT write code above this!\n",
    "from random import randrange\n",
    "from string import *\n",
    "\n",
    "# -----------------------------------\n",
    "# Helper code\n",
    "# (you don't need to understand this helper code)\n",
    "# Import hangman words\n",
    "\n",
    "WORDLIST_FILENAME = \"words.txt\"\n",
    "\n",
    "def load_words():\n",
    "    \"\"\"\n",
    "    Returns a list of valid words. Words are strings of lowercase letters.\n",
    "    \n",
    "    Depending on the size of the word list, this function may\n",
    "    take a while to finish.\n",
    "    \"\"\"\n",
    "    print(\"Loading word list from file...\")\n",
    "    # inFile: file\n",
    "    inFile = open(WORDLIST_FILENAME, 'r')\n",
    "    # line: string\n",
    "    line = inFile.readline()\n",
    "    # wordlist: list of strings\n",
    "    wordlist = line.split()\n",
    "    print( \"  \", len(wordlist), \"words loaded.\")\n",
    "    print('Enter play_hangman() to play a game of hangman!')\n",
    "    return wordlist\n",
    "\n",
    "# actually load the dictionary of words and point to it with \n",
    "# the words_dict variable so that it can be accessed from anywhere\n",
    "# in the program\n",
    "\n",
    "words_dict = load_words()\n",
    "\n",
    "\n",
    "# Run get_word() within your program to generate a random secret word\n",
    "# by using a line like this within your program:\n",
    "# secret_word = get_word()\n",
    "\n",
    "def get_word():\n",
    "    \"\"\"\n",
    "    Returns a random word from the word list\n",
    "    \"\"\"\n",
    "    word=words_dict[randrange(0,len(words_dict))]\n",
    "    return word\n",
    "\n",
    "# end of helper code\n",
    "# -----------------------------------\n",
    "\n",
    "# Secret word\n",
    "secret_word = get_word() # secret word from the word file\n",
    "\n",
    "# Vowels\n",
    "\n",
    "vowels = ['a','e','i','o','u']\n",
    "\n",
    "# There are 6 guesses and 3 warnings in the game\n",
    "\n",
    "def play_hangman():\n",
    "\n",
    "    print (\"Welcome to the game Hangman!\")\n",
    "    print (\"I'm thinking of a word that is \" + str(len(secret_word)) + \" letters long.\")\n",
    "    \n",
    "    print (\"------------------------------------------------\")\n",
    "\n",
    "    #Constant\n",
    "    letters_guessed = \"\"\n",
    "    guesses_remaining = 6\n",
    "    warnings = 3\n",
    "    guess_status = False\n",
    "    \n",
    "    while guess_status == False and guesses_remaining > 0 :\n",
    "        print (\"You have \" + str(guesses_remaining) + \" guesses left.\")\n",
    "        print (\"Available letters: \" + get_available_letters(letters_guessed))\n",
    "        guess = input(\"Please guess a letter:\")\n",
    "\n",
    "        if guess in secret_word and guess not in letters_guessed:\n",
    "            letters_guessed += guess\n",
    "            print(\"Good guess:\" + get_guessed_word(secret_word, letters_guessed))\n",
    "        elif guess not in allowed_input:\n",
    "            letters_guessed += guess\n",
    "            print(\"ERROR! You can only input alphabet. Available letters :\" + get_available_letters(letters_guessed) + \". Guessed Words: \" + get_guessed_word(secret_word, letters_guessed))\n",
    "        elif guess in letters_guessed:\n",
    "            if  warnings == 0:\n",
    "                guesses_remaining -= 1\n",
    "                print(\"Oops! You've already guessed that letter: \" + get_guessed_word(secret_word, letters_guessed))\n",
    "            else:\n",
    "                warnings -= 1 \n",
    "                print(\"Oops! You've already guessed that letter. You have \" + str(warnings) + \" warnings left: \" + get_guessed_word(secret_word, letters_guessed))\n",
    "        elif guess not in secret_word and guess in vowels :\n",
    "            letters_guessed += guess\n",
    "            print(\"Oops! That letter is not in my word. You loses two guesses if word enter is vowel and is not in the secret word: \" + get_guessed_word(secret_word, letters_guessed))\n",
    "            guesses_remaining -= 2\n",
    "        else:\n",
    "            letters_guessed += guess\n",
    "            print (\"Oops! That letter is not in my word: \" + get_guessed_word(secret_word, letters_guessed))\n",
    "            guesses_remaining -= 1\n",
    "        \n",
    "        print (\"------------------------------------------------\")\n",
    "\n",
    "        if  guesses_remaining == 0:\n",
    "            print (\"Sorry, You've ran out of guesses. The word was \" + secret_word + \".\")\n",
    "            break\n",
    "\n",
    "        if is_word_guessed(secret_word, letters_guessed) == True:\n",
    "            print (\"Congratulations! You've won! Your final score is: \" + str(len(set(secret_word)) * guesses_remaining))\n",
    "            break"
   ]
  },
  {
   "cell_type": "code",
   "execution_count": 12,
   "metadata": {},
   "outputs": [
    {
     "name": "stdout",
     "output_type": "stream",
     "text": [
      "Welcome to the game Hangman!\n",
      "I'm thinking of a word that is 7 letters long.\n",
      "------------------------------------------------\n",
      "You have 6 guesses left.\n",
      "Available letters: abcdefghijklmnopqrstuvwxyz\n",
      "Oops! That letter is not in my word. You loses two guesses if word enter is vowel and is not in the secret word: _ _ _ _ _ _ _ \n",
      "------------------------------------------------\n",
      "You have 4 guesses left.\n",
      "Available letters: bcdefghijklmnopqrstuvwxyz\n",
      "Oops! That letter is not in my word. You loses two guesses if word enter is vowel and is not in the secret word: _ _ _ _ _ _ _ \n",
      "------------------------------------------------\n",
      "You have 2 guesses left.\n",
      "Available letters: bcdefghjklmnopqrstuvwxyz\n",
      "Good guess:_ _ _ _ _ e_ \n",
      "------------------------------------------------\n",
      "You have 2 guesses left.\n",
      "Available letters: bcdfghjklmnopqrstuvwxyz\n",
      "Oops! You've already guessed that letter. You have 2 warnings left: _ _ _ _ _ e_ \n",
      "------------------------------------------------\n",
      "You have 2 guesses left.\n",
      "Available letters: bcdfghjklmnopqrstuvwxyz\n",
      "ERROR! You can only input alphabet. Available letters :bcdfghjklmnopqrstuvwxyz. Guessed Words: _ _ _ _ _ e_ \n",
      "------------------------------------------------\n",
      "You have 2 guesses left.\n",
      "Available letters: bcdfghjklmnopqrstuvwxyz\n",
      "Oops! That letter is not in my word. You loses two guesses if word enter is vowel and is not in the secret word: _ _ _ _ _ e_ \n",
      "------------------------------------------------\n",
      "Sorry, You've ran out of guesses. The word was kludges.\n"
     ]
    }
   ],
   "source": [
    "play_hangman()"
   ]
  },
  {
   "cell_type": "markdown",
   "metadata": {},
   "source": [
    "# Part 3 Hangman with Hints"
   ]
  },
  {
   "cell_type": "code",
   "execution_count": 19,
   "metadata": {},
   "outputs": [],
   "source": [
    "def match_with_gaps(my_word, other_word):\n",
    "    my_word_clean = my_word.replace(\" \", \"\")\n",
    "    letters = \"\"\n",
    "    if len(my_word_clean) != len(other_word):\n",
    "        return False\n",
    "    for i in range(len(my_word_clean)):\n",
    "        if my_word_clean[i] != \"_\":\n",
    "            if my_word_clean[i] != other_word[i]:\n",
    "                return False\n",
    "            letters = letters + other_word[i]\n",
    "        else:\n",
    "            if other_word[i] in letters: \n",
    "                return False\n",
    "    return True"
   ]
  },
  {
   "cell_type": "code",
   "execution_count": 16,
   "metadata": {},
   "outputs": [
    {
     "data": {
      "text/plain": [
       "False"
      ]
     },
     "execution_count": 16,
     "metadata": {},
     "output_type": "execute_result"
    }
   ],
   "source": [
    "match_with_gaps(\"te_t\", \"tact\")"
   ]
  },
  {
   "cell_type": "code",
   "execution_count": 17,
   "metadata": {},
   "outputs": [
    {
     "data": {
      "text/plain": [
       "False"
      ]
     },
     "execution_count": 17,
     "metadata": {},
     "output_type": "execute_result"
    }
   ],
   "source": [
    "match_with_gaps(\"a_ ple\", \"banana\")"
   ]
  },
  {
   "cell_type": "code",
   "execution_count": 18,
   "metadata": {},
   "outputs": [
    {
     "data": {
      "text/plain": [
       "True"
      ]
     },
     "execution_count": 18,
     "metadata": {},
     "output_type": "execute_result"
    }
   ],
   "source": [
    "match_with_gaps(\"a_ _ le\", \"apple\")"
   ]
  },
  {
   "cell_type": "code",
   "execution_count": 19,
   "metadata": {},
   "outputs": [
    {
     "data": {
      "text/plain": [
       "True"
      ]
     },
     "execution_count": 19,
     "metadata": {},
     "output_type": "execute_result"
    }
   ],
   "source": [
    "match_with_gaps(\"a_ ple\", \"apple\")"
   ]
  },
  {
   "cell_type": "code",
   "execution_count": 20,
   "metadata": {},
   "outputs": [],
   "source": [
    "def show_possible_matches(my_word):\n",
    "    matches = \"\"\n",
    "    for word in words_dict:\n",
    "        if match_with_gaps(my_word, word) == True:\n",
    "            matches = matches + \" \" + word\n",
    "    print(matches)\n"
   ]
  },
  {
   "cell_type": "code",
   "execution_count": 16,
   "metadata": {},
   "outputs": [
    {
     "name": "stdout",
     "output_type": "stream",
     "text": [
      " tact tart taut teat\n",
      " ample amply apple a\n"
     ]
    }
   ],
   "source": [
    "show_possible_matches(\"t_ _ t\")\n",
    "show_possible_matches(\"a_ pl_ \")"
   ]
  },
  {
   "cell_type": "code",
   "execution_count": 21,
   "metadata": {},
   "outputs": [
    {
     "name": "stdout",
     "output_type": "stream",
     "text": [
      "Loading word list from file...\n",
      "   55900 words loaded.\n",
      "Enter play_hangman() to play a game of hangman!\n"
     ]
    }
   ],
   "source": [
    "# Name: Carissa Mashinta Kurniawan\n",
    "# 6.S189 Project 1: Hangman template\n",
    "# hangman_template.py\n",
    "\n",
    "# Import statements: DO NOT delete these! DO NOT write code above this!\n",
    "from random import randrange\n",
    "from string import *\n",
    "\n",
    "# -----------------------------------\n",
    "# Helper code\n",
    "# (you don't need to understand this helper code)\n",
    "# Import hangman words\n",
    "\n",
    "WORDLIST_FILENAME = \"words.txt\"\n",
    "\n",
    "def load_words():\n",
    "    \"\"\"\n",
    "    Returns a list of valid words. Words are strings of lowercase letters.\n",
    "    \n",
    "    Depending on the size of the word list, this function may\n",
    "    take a while to finish.\n",
    "    \"\"\"\n",
    "    print(\"Loading word list from file...\")\n",
    "    # inFile: file\n",
    "    inFile = open(WORDLIST_FILENAME, 'r')\n",
    "    # line: string\n",
    "    line = inFile.readline()\n",
    "    # wordlist: list of strings\n",
    "    wordlist = line.split()\n",
    "    print( \"  \", len(wordlist), \"words loaded.\")\n",
    "    print('Enter play_hangman() to play a game of hangman!')\n",
    "    return wordlist\n",
    "\n",
    "# actually load the dictionary of words and point to it with \n",
    "# the words_dict variable so that it can be accessed from anywhere\n",
    "# in the program\n",
    "\n",
    "words_dict = load_words()\n",
    "\n",
    "\n",
    "# Run get_word() within your program to generate a random secret word\n",
    "# by using a line like this within your program:\n",
    "# secret_word = get_word()\n",
    "\n",
    "def get_word():\n",
    "    \"\"\"\n",
    "    Returns a random word from the word list\n",
    "    \"\"\"\n",
    "    word=words_dict[randrange(0,len(words_dict))]\n",
    "    return word\n",
    "\n",
    "# end of helper code\n",
    "# -----------------------------------\n",
    "\n",
    "# Secret word\n",
    "secret_word = get_word() # secret word from the word file\n",
    "\n",
    "# Vowels\n",
    "\n",
    "vowels = ['a','e','i','o','u']\n",
    "\n",
    "# There are 6 guesses and 3 warnings in the game\n",
    "\n",
    "def play_hangman():\n",
    "\n",
    "    print (\"Welcome to the game Hangman!\")\n",
    "    print (\"I'm thinking of a word that is \" + str(len(secret_word)) + \" letters long.\")\n",
    "    \n",
    "    print (\"------------------------------------------------\")\n",
    "\n",
    "    #Constant\n",
    "    letters_guessed = \"\"\n",
    "    guesses_remaining = 6\n",
    "    warnings = 3\n",
    "    guess_status = False\n",
    "    \n",
    "    while guess_status == False and guesses_remaining > 0 :\n",
    "        print (\"You have \" + str(guesses_remaining) + \" guesses left.\")\n",
    "        print (\"Available letters: \" + get_available_letters(letters_guessed))\n",
    "        guess = input(\"Please guess a letter:\")\n",
    "\n",
    "        if guess == \"*\":\n",
    "            print(\"Possible word matches are:\") \n",
    "            show_possible_matches(get_guessed_word(secret_word, letters_guessed))\n",
    "            continue\n",
    "        elif guess in secret_word and guess not in letters_guessed:\n",
    "            letters_guessed += guess\n",
    "            print(\"Good guess:\" + get_guessed_word(secret_word, letters_guessed))\n",
    "        elif guess not in allowed_input:\n",
    "            letters_guessed += guess\n",
    "            print(\"ERROR! You can only input alphabet. Available letters :\" + get_available_letters(letters_guessed) + \". Guessed Words: \" + get_guessed_word(secret_word, letters_guessed))\n",
    "        elif guess in letters_guessed:\n",
    "            if  warnings == 0:\n",
    "                guesses_remaining -= 1\n",
    "                print(\"Oops! You've already guessed that letter: \" + get_guessed_word(secret_word, letters_guessed))\n",
    "            else:\n",
    "                warnings -= 1 \n",
    "                print(\"Oops! You've already guessed that letter. You have \" + str(warnings) + \" warnings left: \" + get_guessed_word(secret_word, letters_guessed))\n",
    "        elif guess not in secret_word and guess in vowels :\n",
    "            letters_guessed += guess\n",
    "            print(\"Oops! That letter is not in my word. You loses two guesses if word enter is vowel and is not in the secret word: \" + get_guessed_word(secret_word, letters_guessed))\n",
    "            guesses_remaining -= 2\n",
    "        else:\n",
    "            letters_guessed += guess\n",
    "            print (\"Oops! That letter is not in my word: \" + get_guessed_word(secret_word, letters_guessed))\n",
    "            guesses_remaining -= 1\n",
    "        \n",
    "        print (\"------------------------------------------------\")\n",
    "\n",
    "        if  guesses_remaining == 0:\n",
    "            print (\"Sorry, You've ran out of guesses. The word was \" + secret_word + \".\")\n",
    "            break\n",
    "        if is_word_guessed(secret_word, letters_guessed) == True:\n",
    "            print (\"Congratulations! You've won! Your final score is: \" + str(len(set(secret_word)) * guesses_remaining))\n",
    "            break"
   ]
  },
  {
   "cell_type": "code",
   "execution_count": 23,
   "metadata": {},
   "outputs": [
    {
     "name": "stdout",
     "output_type": "stream",
     "text": [
      "Welcome to the game Hangman!\n",
      "I'm thinking of a word that is 9 letters long.\n",
      "------------------------------------------------\n",
      "You have 6 guesses left.\n",
      "Available letters: abcdefghijklmnopqrstuvwxyz\n",
      "Good guess:_ a_ _ _ _ _ _ _ \n",
      "------------------------------------------------\n",
      "You have 6 guesses left.\n",
      "Available letters: bcdefghijklmnopqrstuvwxyz\n",
      "Good guess:_ a_ _ i_ i_ _ \n",
      "------------------------------------------------\n",
      "You have 6 guesses left.\n",
      "Available letters: bcdefghjklmnopqrstuvwxyz\n",
      "Oops! That letter is not in my word. You loses two guesses if word enter is vowel and is not in the secret word: _ a_ _ i_ i_ _ \n",
      "------------------------------------------------\n",
      "You have 4 guesses left.\n",
      "Available letters: bcdefghjklmnpqrstuvwxyz\n",
      "Oops! You've already guessed that letter. You have 2 warnings left: _ a_ _ i_ i_ _ \n",
      "------------------------------------------------\n",
      "You have 4 guesses left.\n",
      "Available letters: bcdefghjklmnpqrstuvwxyz\n",
      "Good guess:_ a_ _ i_ i_ e\n",
      "------------------------------------------------\n",
      "You have 4 guesses left.\n",
      "Available letters: bcdfghjklmnpqrstuvwxyz\n",
      "Oops! That letter is not in my word. You loses two guesses if word enter is vowel and is not in the secret word: _ a_ _ i_ i_ e\n",
      "------------------------------------------------\n",
      "You have 2 guesses left.\n",
      "Available letters: bcdfghjklmnpqrstvwxyz\n",
      "Oops! You've already guessed that letter. You have 1 warnings left: _ a_ _ i_ i_ e\n",
      "------------------------------------------------\n",
      "You have 2 guesses left.\n",
      "Available letters: bcdfghjklmnpqrstvwxyz\n",
      "Possible word matches are:\n",
      " calcimine facsimile matricide parricide patricide sacrifice\n",
      "You have 2 guesses left.\n",
      "Available letters: bcdfghjklmnpqrstvwxyz\n",
      "Good guess:_ a_ _ ifi_ e\n",
      "------------------------------------------------\n",
      "You have 2 guesses left.\n",
      "Available letters: bcdghjklmnpqrstvwxyz\n",
      "Good guess:_ ac_ ifice\n",
      "------------------------------------------------\n",
      "You have 2 guesses left.\n",
      "Available letters: bdghjklmnpqrstvwxyz\n",
      "Good guess:sac_ ifice\n",
      "------------------------------------------------\n",
      "You have 2 guesses left.\n",
      "Available letters: bdghjklmnpqrtvwxyz\n",
      "Good guess:sacrifice\n",
      "------------------------------------------------\n",
      "Congratulations! You've won! Your final score is: 14\n"
     ]
    }
   ],
   "source": [
    "play_hangman()"
   ]
  }
 ],
 "metadata": {
  "kernelspec": {
   "display_name": "Python 3.10.7 64-bit",
   "language": "python",
   "name": "python3"
  },
  "language_info": {
   "codemirror_mode": {
    "name": "ipython",
    "version": 3
   },
   "file_extension": ".py",
   "mimetype": "text/x-python",
   "name": "python",
   "nbconvert_exporter": "python",
   "pygments_lexer": "ipython3",
   "version": "3.10.7"
  },
  "orig_nbformat": 4,
  "vscode": {
   "interpreter": {
    "hash": "aee8b7b246df8f9039afb4144a1f6fd8d2ca17a180786b69acc140d282b71a49"
   }
  }
 },
 "nbformat": 4,
 "nbformat_minor": 2
}
